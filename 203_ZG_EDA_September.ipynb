{
  "nbformat": 4,
  "nbformat_minor": 0,
  "metadata": {
    "colab": {
      "name": "203_ZG_EDA_September.ipynb",
      "provenance": [],
      "collapsed_sections": []
    },
    "kernelspec": {
      "name": "python3",
      "display_name": "Python 3"
    },
    "accelerator": "GPU"
  },
  "cells": [
    {
      "cell_type": "code",
      "metadata": {
        "id": "ayenyFu3Rjfj",
        "colab_type": "code",
        "cellView": "form",
        "outputId": "65dd3e54-def7-45b9-a349-838d330557c4",
        "colab": {
          "base_uri": "https://localhost:8080/",
          "height": 122
        }
      },
      "source": [
        "#@title\n",
        "from google.colab import drive\n",
        "drive.mount('/content/gdrive')"
      ],
      "execution_count": 0,
      "outputs": [
        {
          "output_type": "stream",
          "text": [
            "Go to this URL in a browser: https://accounts.google.com/o/oauth2/auth?client_id=947318989803-6bn6qk8qdgf4n4g3pfee6491hc0brc4i.apps.googleusercontent.com&redirect_uri=urn%3Aietf%3Awg%3Aoauth%3A2.0%3Aoob&scope=email%20https%3A%2F%2Fwww.googleapis.com%2Fauth%2Fdocs.test%20https%3A%2F%2Fwww.googleapis.com%2Fauth%2Fdrive%20https%3A%2F%2Fwww.googleapis.com%2Fauth%2Fdrive.photos.readonly%20https%3A%2F%2Fwww.googleapis.com%2Fauth%2Fpeopleapi.readonly&response_type=code\n",
            "\n",
            "Enter your authorization code:\n",
            "··········\n",
            "Mounted at /content/gdrive\n"
          ],
          "name": "stdout"
        }
      ]
    },
    {
      "cell_type": "markdown",
      "metadata": {
        "id": "tUIWTUnij7Hj",
        "colab_type": "text"
      },
      "source": [
        "L' **algoritmo di rilevazione** non è perfetto e si presta ad alcuni errori, ma ha permesso un ampio margine di miglioramento rispetto all'osservazione diretta. \n",
        "\n",
        "L' osservazione diretta permetteva di contare con precisione quante persone erano presenti nella piazza in un dato istante, solitamente nel primo pomeriggio.\n",
        "\n",
        "Il grafico di esempio mostra come alle ore 15.00 sono state contate 25 persone:\n",
        "\n",
        "\n",
        "\n",
        "\n"
      ]
    },
    {
      "cell_type": "code",
      "metadata": {
        "id": "qr3QdfNq3gSR",
        "colab_type": "code",
        "cellView": "form",
        "outputId": "43db603d-9b3f-4641-b17e-4209fe69c924",
        "colab": {
          "base_uri": "https://localhost:8080/",
          "height": 568
        }
      },
      "source": [
        "#@title\n",
        "\n",
        "##data\n",
        "\n",
        "import sqlite3\n",
        "import pandas as pd\n",
        "from datetime import datetime\n",
        "import numpy as np\n",
        "import altair as alt\n",
        "\n",
        "\n",
        "observations=pd.DataFrame()\n",
        "observations['time']=[8.24,8.36,8.48,9.00,9.12,9.24,9.36,9.48,10.00,10.12,10.24,10.36,10.48,11.00,11.12,11.24,11.36,11.48,12.00,12.12,12.24,12.36,12.48,13.00,13.12,13.24,13.36,13.48,14.00,14.12,14.24,14.36,14.48,15.00,15.12,15.24,15.36,15.48,16.00,16.12,16.24,16.36,16.48,17.00,17.12,17.24,17.36,17.48,18.00]\n",
        "#observations['algoritmo_attuale']=[3,9,5,1,6,7,6,3,1,6,6,3,8,2,5,3,6,4,4,5,7,6,9,6,6,8,6,11,8,8,5,10,12,8,12,12,15,9,11,11,7,11,12,14,10,14,14,13,9]\n",
        "#observations['algoritmo_con_postprocessing']=[3,9,5,1,8,7,6,3,2,6,6,6,9,3,6,5,6,5,5,6,8,7,9,8,7,11,7,14,12,11,7,11,13,9,14,17,15,10,13,11,8,12,15,15,14,16,15,13,14]\n",
        "observations['algoritmo_di_rilevazione']=[3,10,9,1,11,8,9,8,2,9,8,10,10,11,6,8,7,8,5,7,10,8,8,9,9,15,10,14,19,19,14,23,21,27,24,28,25,19,27,23,22,34,32,31,30,34,35,36,34]\n",
        "observations['persone_realmente_presenti']=[3,9,10,1,10,10,11,5,3,8,7,8,10,11,8,7,6,8,5,7,9,8,9,8,9,14,9,16,18,18,15,22,16,25,23,26,22,18,20,24,23,37,30,36,31,36,39,35,39]\n",
        "observations['osservazione_singola']=25 #observations.loc[observations['time']== 15.00, 'persone_realmente_presenti']\n",
        "observations['media_reale']=observations['persone_realmente_presenti'].mean()\n",
        "observations['media_algoritmo']=observations['algoritmo_di_rilevazione'].mean()\n",
        "\n",
        "\n",
        "observations['time']=observations['time'].astype(str)\n",
        "observations['time']=pd.to_datetime(observations['time'], format='%H.%M')#.dt.hour\n",
        "\n",
        "#observations.info()\n",
        "\n",
        "##viz\n",
        "\n",
        "import altair as alt\n",
        "\n",
        "data= observations.melt('time')\n",
        "#overlay=pd.DataFrame({'x': ['13.48']})\n",
        "#overlay['x']=pd.to_datetime(overlay['x'], format='%H.%M')\n",
        "\n",
        "annotazione=pd.DataFrame()\n",
        "annotazione['time']=['15.00']\n",
        "annotazione['obs']=[25]\n",
        "annotazione['time']=pd.to_datetime(annotazione['time'], format='%H.%M')\n",
        "\n",
        "domain = ['algoritmo_di_rilevazione:Q', 'persone_realmente_presenti:Q', 'osservazione_singola:Q','media_reale:Q', 'media_algoritmo:Q']\n",
        "range_ = ['orange','brown', 'red', 'blue']\n",
        "\n",
        "lines = alt.Chart(data).mark_line(opacity=0.9\n",
        "                                  ).encode(\n",
        "  x= alt.X('time:T', axis=alt.Axis(title='ora rilevazione')),\n",
        "  y= alt.Y('value', axis=alt.Axis(title='numero persone')),\n",
        "  color= alt.Color('variable',\n",
        "                   scale=alt.Scale(scheme='category10'),\n",
        "                   sort=['persone_realmente_presenti','osservazione_singola'],\n",
        "                   legend=alt.Legend(title='aaaaa')\n",
        "                   ), #(domain=domain,range=range_))\n",
        "  #tooltip=['variable', 'value', 'time']\n",
        "  ).interactive(bind_y=True)\n",
        "\n",
        "\n",
        "\n",
        "annotazione_sing=alt.Chart(annotazione).mark_bar().encode(\n",
        "    x='time:T',\n",
        "    y='obs:Q'\n",
        ")\n",
        "\n",
        "\n",
        "#rule = alt.Chart(overlay).mark_rule(color='black').encode(x='x:T')\n",
        "#rule_rilevazione_singola = alt.Chart(overlay_y).mark_rule(color='red').encode(y='rilevazione_singola:Q')\n",
        "#rule_media_alg = alt.Chart(observations).mark_rule(color='green').encode(y='mean(persone_realmente_presenti):Q')\n",
        "\n",
        "##viz opzionali\n",
        "area_errore_alg= alt.Chart(observations).mark_area(color= 'green', opacity=0.7).encode(\n",
        "    x='time:T',\n",
        "    y='persone_realmente_presenti:Q',\n",
        "    y2='algoritmo_di_rilevazione'\n",
        ")\n",
        "\n",
        "area_errore_sing= alt.Chart(observations).mark_area(color= '#f7c759',opacity=0.6).encode(\n",
        "    x='time:T',\n",
        "    y='osservazione_singola:Q',\n",
        "    y2='persone_realmente_presenti:Q'\n",
        ")\n",
        "\n",
        "\n",
        "(lines\n",
        "# + annotazione_sing\n",
        "#+ rule_media_alg\n",
        "#+ area_errore_sing\n",
        "#+ area_errore_alg \n",
        ").properties(width=900,height=500)\n",
        "\n",
        "\n"
      ],
      "execution_count": 0,
      "outputs": [
        {
          "output_type": "execute_result",
          "data": {
            "text/plain": [
              "alt.Chart(...)"
            ],
            "text/html": [
              "<!DOCTYPE html>\n",
              "<html>\n",
              "<head>\n",
              "  <style>\n",
              "    .vega-actions a {\n",
              "        margin-right: 12px;\n",
              "        color: #757575;\n",
              "        font-weight: normal;\n",
              "        font-size: 13px;\n",
              "    }\n",
              "    .error {\n",
              "        color: red;\n",
              "    }\n",
              "  </style>\n",
              "  <script type=\"text/javascript\" src=\"https://cdn.jsdelivr.net/npm//vega@5\"></script>\n",
              "  <script type=\"text/javascript\" src=\"https://cdn.jsdelivr.net/npm//vega-lite@3.4.0\"></script>\n",
              "  <script type=\"text/javascript\" src=\"https://cdn.jsdelivr.net/npm//vega-embed@4\"></script>\n",
              "</head>\n",
              "<body>\n",
              "  <div id=\"altair-viz\"></div>\n",
              "  <script>\n",
              "    (function(vegaEmbed) {\n",
              "      var spec = {\"config\": {\"view\": {\"width\": 400, \"height\": 300}, \"mark\": {\"tooltip\": null}}, \"data\": {\"name\": \"data-303e9d9c9d18a8ab542b40bdb3261273\"}, \"mark\": {\"type\": \"line\", \"opacity\": 0.9}, \"encoding\": {\"color\": {\"type\": \"nominal\", \"field\": \"variable\", \"legend\": {\"title\": \"aaaaa\"}, \"scale\": {\"scheme\": \"category10\"}, \"sort\": [\"persone_realmente_presenti\", \"osservazione_singola\"]}, \"x\": {\"type\": \"temporal\", \"axis\": {\"title\": \"ora rilevazione\"}, \"field\": \"time\"}, \"y\": {\"type\": \"quantitative\", \"axis\": {\"title\": \"numero persone\"}, \"field\": \"value\"}}, \"height\": 500, \"selection\": {\"selector001\": {\"type\": \"interval\", \"bind\": \"scales\", \"encodings\": [\"x\", \"y\"]}}, \"width\": 900, \"$schema\": \"https://vega.github.io/schema/vega-lite/v3.4.0.json\", \"datasets\": {\"data-303e9d9c9d18a8ab542b40bdb3261273\": [{\"time\": \"1900-01-01T08:24:00\", \"variable\": \"algoritmo_di_rilevazione\", \"value\": 3.0}, {\"time\": \"1900-01-01T08:36:00\", \"variable\": \"algoritmo_di_rilevazione\", \"value\": 10.0}, {\"time\": \"1900-01-01T08:48:00\", \"variable\": \"algoritmo_di_rilevazione\", \"value\": 9.0}, {\"time\": \"1900-01-01T09:00:00\", \"variable\": \"algoritmo_di_rilevazione\", \"value\": 1.0}, {\"time\": \"1900-01-01T09:12:00\", \"variable\": \"algoritmo_di_rilevazione\", \"value\": 11.0}, {\"time\": \"1900-01-01T09:24:00\", \"variable\": \"algoritmo_di_rilevazione\", \"value\": 8.0}, {\"time\": \"1900-01-01T09:36:00\", \"variable\": \"algoritmo_di_rilevazione\", \"value\": 9.0}, {\"time\": \"1900-01-01T09:48:00\", \"variable\": \"algoritmo_di_rilevazione\", \"value\": 8.0}, {\"time\": \"1900-01-01T10:00:00\", \"variable\": \"algoritmo_di_rilevazione\", \"value\": 2.0}, {\"time\": \"1900-01-01T10:12:00\", \"variable\": \"algoritmo_di_rilevazione\", \"value\": 9.0}, {\"time\": \"1900-01-01T10:24:00\", \"variable\": \"algoritmo_di_rilevazione\", \"value\": 8.0}, {\"time\": \"1900-01-01T10:36:00\", \"variable\": \"algoritmo_di_rilevazione\", \"value\": 10.0}, {\"time\": \"1900-01-01T10:48:00\", \"variable\": \"algoritmo_di_rilevazione\", \"value\": 10.0}, {\"time\": \"1900-01-01T11:00:00\", \"variable\": \"algoritmo_di_rilevazione\", \"value\": 11.0}, {\"time\": \"1900-01-01T11:12:00\", \"variable\": \"algoritmo_di_rilevazione\", \"value\": 6.0}, {\"time\": \"1900-01-01T11:24:00\", \"variable\": \"algoritmo_di_rilevazione\", \"value\": 8.0}, {\"time\": \"1900-01-01T11:36:00\", \"variable\": \"algoritmo_di_rilevazione\", \"value\": 7.0}, {\"time\": \"1900-01-01T11:48:00\", \"variable\": \"algoritmo_di_rilevazione\", \"value\": 8.0}, {\"time\": \"1900-01-01T12:00:00\", \"variable\": \"algoritmo_di_rilevazione\", \"value\": 5.0}, {\"time\": \"1900-01-01T12:12:00\", \"variable\": \"algoritmo_di_rilevazione\", \"value\": 7.0}, {\"time\": \"1900-01-01T12:24:00\", \"variable\": \"algoritmo_di_rilevazione\", \"value\": 10.0}, {\"time\": \"1900-01-01T12:36:00\", \"variable\": \"algoritmo_di_rilevazione\", \"value\": 8.0}, {\"time\": \"1900-01-01T12:48:00\", \"variable\": \"algoritmo_di_rilevazione\", \"value\": 8.0}, {\"time\": \"1900-01-01T13:00:00\", \"variable\": \"algoritmo_di_rilevazione\", \"value\": 9.0}, {\"time\": \"1900-01-01T13:12:00\", \"variable\": \"algoritmo_di_rilevazione\", \"value\": 9.0}, {\"time\": \"1900-01-01T13:24:00\", \"variable\": \"algoritmo_di_rilevazione\", \"value\": 15.0}, {\"time\": \"1900-01-01T13:36:00\", \"variable\": \"algoritmo_di_rilevazione\", \"value\": 10.0}, {\"time\": \"1900-01-01T13:48:00\", \"variable\": \"algoritmo_di_rilevazione\", \"value\": 14.0}, {\"time\": \"1900-01-01T14:00:00\", \"variable\": \"algoritmo_di_rilevazione\", \"value\": 19.0}, {\"time\": \"1900-01-01T14:12:00\", \"variable\": \"algoritmo_di_rilevazione\", \"value\": 19.0}, {\"time\": \"1900-01-01T14:24:00\", \"variable\": \"algoritmo_di_rilevazione\", \"value\": 14.0}, {\"time\": \"1900-01-01T14:36:00\", \"variable\": \"algoritmo_di_rilevazione\", \"value\": 23.0}, {\"time\": \"1900-01-01T14:48:00\", \"variable\": \"algoritmo_di_rilevazione\", \"value\": 21.0}, {\"time\": \"1900-01-01T15:00:00\", \"variable\": \"algoritmo_di_rilevazione\", \"value\": 27.0}, {\"time\": \"1900-01-01T15:12:00\", \"variable\": \"algoritmo_di_rilevazione\", \"value\": 24.0}, {\"time\": \"1900-01-01T15:24:00\", \"variable\": \"algoritmo_di_rilevazione\", \"value\": 28.0}, {\"time\": \"1900-01-01T15:36:00\", \"variable\": \"algoritmo_di_rilevazione\", \"value\": 25.0}, {\"time\": \"1900-01-01T15:48:00\", \"variable\": \"algoritmo_di_rilevazione\", \"value\": 19.0}, {\"time\": \"1900-01-01T16:00:00\", \"variable\": \"algoritmo_di_rilevazione\", \"value\": 27.0}, {\"time\": \"1900-01-01T16:12:00\", \"variable\": \"algoritmo_di_rilevazione\", \"value\": 23.0}, {\"time\": \"1900-01-01T16:24:00\", \"variable\": \"algoritmo_di_rilevazione\", \"value\": 22.0}, {\"time\": \"1900-01-01T16:36:00\", \"variable\": \"algoritmo_di_rilevazione\", \"value\": 34.0}, {\"time\": \"1900-01-01T16:48:00\", \"variable\": \"algoritmo_di_rilevazione\", \"value\": 32.0}, {\"time\": \"1900-01-01T17:00:00\", \"variable\": \"algoritmo_di_rilevazione\", \"value\": 31.0}, {\"time\": \"1900-01-01T17:12:00\", \"variable\": \"algoritmo_di_rilevazione\", \"value\": 30.0}, {\"time\": \"1900-01-01T17:24:00\", \"variable\": \"algoritmo_di_rilevazione\", \"value\": 34.0}, {\"time\": \"1900-01-01T17:36:00\", \"variable\": \"algoritmo_di_rilevazione\", \"value\": 35.0}, {\"time\": \"1900-01-01T17:48:00\", \"variable\": \"algoritmo_di_rilevazione\", \"value\": 36.0}, {\"time\": \"1900-01-01T18:00:00\", \"variable\": \"algoritmo_di_rilevazione\", \"value\": 34.0}, {\"time\": \"1900-01-01T08:24:00\", \"variable\": \"persone_realmente_presenti\", \"value\": 3.0}, {\"time\": \"1900-01-01T08:36:00\", \"variable\": \"persone_realmente_presenti\", \"value\": 9.0}, {\"time\": \"1900-01-01T08:48:00\", \"variable\": \"persone_realmente_presenti\", \"value\": 10.0}, {\"time\": \"1900-01-01T09:00:00\", \"variable\": \"persone_realmente_presenti\", \"value\": 1.0}, {\"time\": \"1900-01-01T09:12:00\", \"variable\": \"persone_realmente_presenti\", \"value\": 10.0}, {\"time\": \"1900-01-01T09:24:00\", \"variable\": \"persone_realmente_presenti\", \"value\": 10.0}, {\"time\": \"1900-01-01T09:36:00\", \"variable\": \"persone_realmente_presenti\", \"value\": 11.0}, {\"time\": \"1900-01-01T09:48:00\", \"variable\": \"persone_realmente_presenti\", \"value\": 5.0}, {\"time\": \"1900-01-01T10:00:00\", \"variable\": \"persone_realmente_presenti\", \"value\": 3.0}, {\"time\": \"1900-01-01T10:12:00\", \"variable\": \"persone_realmente_presenti\", \"value\": 8.0}, {\"time\": \"1900-01-01T10:24:00\", \"variable\": \"persone_realmente_presenti\", \"value\": 7.0}, {\"time\": \"1900-01-01T10:36:00\", \"variable\": \"persone_realmente_presenti\", \"value\": 8.0}, {\"time\": \"1900-01-01T10:48:00\", \"variable\": \"persone_realmente_presenti\", \"value\": 10.0}, {\"time\": \"1900-01-01T11:00:00\", \"variable\": \"persone_realmente_presenti\", \"value\": 11.0}, {\"time\": \"1900-01-01T11:12:00\", \"variable\": \"persone_realmente_presenti\", \"value\": 8.0}, {\"time\": \"1900-01-01T11:24:00\", \"variable\": \"persone_realmente_presenti\", \"value\": 7.0}, {\"time\": \"1900-01-01T11:36:00\", \"variable\": \"persone_realmente_presenti\", \"value\": 6.0}, {\"time\": \"1900-01-01T11:48:00\", \"variable\": \"persone_realmente_presenti\", \"value\": 8.0}, {\"time\": \"1900-01-01T12:00:00\", \"variable\": \"persone_realmente_presenti\", \"value\": 5.0}, {\"time\": \"1900-01-01T12:12:00\", \"variable\": \"persone_realmente_presenti\", \"value\": 7.0}, {\"time\": \"1900-01-01T12:24:00\", \"variable\": \"persone_realmente_presenti\", \"value\": 9.0}, {\"time\": \"1900-01-01T12:36:00\", \"variable\": \"persone_realmente_presenti\", \"value\": 8.0}, {\"time\": \"1900-01-01T12:48:00\", \"variable\": \"persone_realmente_presenti\", \"value\": 9.0}, {\"time\": \"1900-01-01T13:00:00\", \"variable\": \"persone_realmente_presenti\", \"value\": 8.0}, {\"time\": \"1900-01-01T13:12:00\", \"variable\": \"persone_realmente_presenti\", \"value\": 9.0}, {\"time\": \"1900-01-01T13:24:00\", \"variable\": \"persone_realmente_presenti\", \"value\": 14.0}, {\"time\": \"1900-01-01T13:36:00\", \"variable\": \"persone_realmente_presenti\", \"value\": 9.0}, {\"time\": \"1900-01-01T13:48:00\", \"variable\": \"persone_realmente_presenti\", \"value\": 16.0}, {\"time\": \"1900-01-01T14:00:00\", \"variable\": \"persone_realmente_presenti\", \"value\": 18.0}, {\"time\": \"1900-01-01T14:12:00\", \"variable\": \"persone_realmente_presenti\", \"value\": 18.0}, {\"time\": \"1900-01-01T14:24:00\", \"variable\": \"persone_realmente_presenti\", \"value\": 15.0}, {\"time\": \"1900-01-01T14:36:00\", \"variable\": \"persone_realmente_presenti\", \"value\": 22.0}, {\"time\": \"1900-01-01T14:48:00\", \"variable\": \"persone_realmente_presenti\", \"value\": 16.0}, {\"time\": \"1900-01-01T15:00:00\", \"variable\": \"persone_realmente_presenti\", \"value\": 25.0}, {\"time\": \"1900-01-01T15:12:00\", \"variable\": \"persone_realmente_presenti\", \"value\": 23.0}, {\"time\": \"1900-01-01T15:24:00\", \"variable\": \"persone_realmente_presenti\", \"value\": 26.0}, {\"time\": \"1900-01-01T15:36:00\", \"variable\": \"persone_realmente_presenti\", \"value\": 22.0}, {\"time\": \"1900-01-01T15:48:00\", \"variable\": \"persone_realmente_presenti\", \"value\": 18.0}, {\"time\": \"1900-01-01T16:00:00\", \"variable\": \"persone_realmente_presenti\", \"value\": 20.0}, {\"time\": \"1900-01-01T16:12:00\", \"variable\": \"persone_realmente_presenti\", \"value\": 24.0}, {\"time\": \"1900-01-01T16:24:00\", \"variable\": \"persone_realmente_presenti\", \"value\": 23.0}, {\"time\": \"1900-01-01T16:36:00\", \"variable\": \"persone_realmente_presenti\", \"value\": 37.0}, {\"time\": \"1900-01-01T16:48:00\", \"variable\": \"persone_realmente_presenti\", \"value\": 30.0}, {\"time\": \"1900-01-01T17:00:00\", \"variable\": \"persone_realmente_presenti\", \"value\": 36.0}, {\"time\": \"1900-01-01T17:12:00\", \"variable\": \"persone_realmente_presenti\", \"value\": 31.0}, {\"time\": \"1900-01-01T17:24:00\", \"variable\": \"persone_realmente_presenti\", \"value\": 36.0}, {\"time\": \"1900-01-01T17:36:00\", \"variable\": \"persone_realmente_presenti\", \"value\": 39.0}, {\"time\": \"1900-01-01T17:48:00\", \"variable\": \"persone_realmente_presenti\", \"value\": 35.0}, {\"time\": \"1900-01-01T18:00:00\", \"variable\": \"persone_realmente_presenti\", \"value\": 39.0}, {\"time\": \"1900-01-01T08:24:00\", \"variable\": \"osservazione_singola\", \"value\": 25.0}, {\"time\": \"1900-01-01T08:36:00\", \"variable\": \"osservazione_singola\", \"value\": 25.0}, {\"time\": \"1900-01-01T08:48:00\", \"variable\": \"osservazione_singola\", \"value\": 25.0}, {\"time\": \"1900-01-01T09:00:00\", \"variable\": \"osservazione_singola\", \"value\": 25.0}, {\"time\": \"1900-01-01T09:12:00\", \"variable\": \"osservazione_singola\", \"value\": 25.0}, {\"time\": \"1900-01-01T09:24:00\", \"variable\": \"osservazione_singola\", \"value\": 25.0}, {\"time\": \"1900-01-01T09:36:00\", \"variable\": \"osservazione_singola\", \"value\": 25.0}, {\"time\": \"1900-01-01T09:48:00\", \"variable\": \"osservazione_singola\", \"value\": 25.0}, {\"time\": \"1900-01-01T10:00:00\", \"variable\": \"osservazione_singola\", \"value\": 25.0}, {\"time\": \"1900-01-01T10:12:00\", \"variable\": \"osservazione_singola\", \"value\": 25.0}, {\"time\": \"1900-01-01T10:24:00\", \"variable\": \"osservazione_singola\", \"value\": 25.0}, {\"time\": \"1900-01-01T10:36:00\", \"variable\": \"osservazione_singola\", \"value\": 25.0}, {\"time\": \"1900-01-01T10:48:00\", \"variable\": \"osservazione_singola\", \"value\": 25.0}, {\"time\": \"1900-01-01T11:00:00\", \"variable\": \"osservazione_singola\", \"value\": 25.0}, {\"time\": \"1900-01-01T11:12:00\", \"variable\": \"osservazione_singola\", \"value\": 25.0}, {\"time\": \"1900-01-01T11:24:00\", \"variable\": \"osservazione_singola\", \"value\": 25.0}, {\"time\": \"1900-01-01T11:36:00\", \"variable\": \"osservazione_singola\", \"value\": 25.0}, {\"time\": \"1900-01-01T11:48:00\", \"variable\": \"osservazione_singola\", \"value\": 25.0}, {\"time\": \"1900-01-01T12:00:00\", \"variable\": \"osservazione_singola\", \"value\": 25.0}, {\"time\": \"1900-01-01T12:12:00\", \"variable\": \"osservazione_singola\", \"value\": 25.0}, {\"time\": \"1900-01-01T12:24:00\", \"variable\": \"osservazione_singola\", \"value\": 25.0}, {\"time\": \"1900-01-01T12:36:00\", \"variable\": \"osservazione_singola\", \"value\": 25.0}, {\"time\": \"1900-01-01T12:48:00\", \"variable\": \"osservazione_singola\", \"value\": 25.0}, {\"time\": \"1900-01-01T13:00:00\", \"variable\": \"osservazione_singola\", \"value\": 25.0}, {\"time\": \"1900-01-01T13:12:00\", \"variable\": \"osservazione_singola\", \"value\": 25.0}, {\"time\": \"1900-01-01T13:24:00\", \"variable\": \"osservazione_singola\", \"value\": 25.0}, {\"time\": \"1900-01-01T13:36:00\", \"variable\": \"osservazione_singola\", \"value\": 25.0}, {\"time\": \"1900-01-01T13:48:00\", \"variable\": \"osservazione_singola\", \"value\": 25.0}, {\"time\": \"1900-01-01T14:00:00\", \"variable\": \"osservazione_singola\", \"value\": 25.0}, {\"time\": \"1900-01-01T14:12:00\", \"variable\": \"osservazione_singola\", \"value\": 25.0}, {\"time\": \"1900-01-01T14:24:00\", \"variable\": \"osservazione_singola\", \"value\": 25.0}, {\"time\": \"1900-01-01T14:36:00\", \"variable\": \"osservazione_singola\", \"value\": 25.0}, {\"time\": \"1900-01-01T14:48:00\", \"variable\": \"osservazione_singola\", \"value\": 25.0}, {\"time\": \"1900-01-01T15:00:00\", \"variable\": \"osservazione_singola\", \"value\": 25.0}, {\"time\": \"1900-01-01T15:12:00\", \"variable\": \"osservazione_singola\", \"value\": 25.0}, {\"time\": \"1900-01-01T15:24:00\", \"variable\": \"osservazione_singola\", \"value\": 25.0}, {\"time\": \"1900-01-01T15:36:00\", \"variable\": \"osservazione_singola\", \"value\": 25.0}, {\"time\": \"1900-01-01T15:48:00\", \"variable\": \"osservazione_singola\", \"value\": 25.0}, {\"time\": \"1900-01-01T16:00:00\", \"variable\": \"osservazione_singola\", \"value\": 25.0}, {\"time\": \"1900-01-01T16:12:00\", \"variable\": \"osservazione_singola\", \"value\": 25.0}, {\"time\": \"1900-01-01T16:24:00\", \"variable\": \"osservazione_singola\", \"value\": 25.0}, {\"time\": \"1900-01-01T16:36:00\", \"variable\": \"osservazione_singola\", \"value\": 25.0}, {\"time\": \"1900-01-01T16:48:00\", \"variable\": \"osservazione_singola\", \"value\": 25.0}, {\"time\": \"1900-01-01T17:00:00\", \"variable\": \"osservazione_singola\", \"value\": 25.0}, {\"time\": \"1900-01-01T17:12:00\", \"variable\": \"osservazione_singola\", \"value\": 25.0}, {\"time\": \"1900-01-01T17:24:00\", \"variable\": \"osservazione_singola\", \"value\": 25.0}, {\"time\": \"1900-01-01T17:36:00\", \"variable\": \"osservazione_singola\", \"value\": 25.0}, {\"time\": \"1900-01-01T17:48:00\", \"variable\": \"osservazione_singola\", \"value\": 25.0}, {\"time\": \"1900-01-01T18:00:00\", \"variable\": \"osservazione_singola\", \"value\": 25.0}, {\"time\": \"1900-01-01T08:24:00\", \"variable\": \"media_reale\", \"value\": 15.959183673469388}, {\"time\": \"1900-01-01T08:36:00\", \"variable\": \"media_reale\", \"value\": 15.959183673469388}, {\"time\": \"1900-01-01T08:48:00\", \"variable\": \"media_reale\", \"value\": 15.959183673469388}, {\"time\": \"1900-01-01T09:00:00\", \"variable\": \"media_reale\", \"value\": 15.959183673469388}, {\"time\": \"1900-01-01T09:12:00\", \"variable\": \"media_reale\", \"value\": 15.959183673469388}, {\"time\": \"1900-01-01T09:24:00\", \"variable\": \"media_reale\", \"value\": 15.959183673469388}, {\"time\": \"1900-01-01T09:36:00\", \"variable\": \"media_reale\", \"value\": 15.959183673469388}, {\"time\": \"1900-01-01T09:48:00\", \"variable\": \"media_reale\", \"value\": 15.959183673469388}, {\"time\": \"1900-01-01T10:00:00\", \"variable\": \"media_reale\", \"value\": 15.959183673469388}, {\"time\": \"1900-01-01T10:12:00\", \"variable\": \"media_reale\", \"value\": 15.959183673469388}, {\"time\": \"1900-01-01T10:24:00\", \"variable\": \"media_reale\", \"value\": 15.959183673469388}, {\"time\": \"1900-01-01T10:36:00\", \"variable\": \"media_reale\", \"value\": 15.959183673469388}, {\"time\": \"1900-01-01T10:48:00\", \"variable\": \"media_reale\", \"value\": 15.959183673469388}, {\"time\": \"1900-01-01T11:00:00\", \"variable\": \"media_reale\", \"value\": 15.959183673469388}, {\"time\": \"1900-01-01T11:12:00\", \"variable\": \"media_reale\", \"value\": 15.959183673469388}, {\"time\": \"1900-01-01T11:24:00\", \"variable\": \"media_reale\", \"value\": 15.959183673469388}, {\"time\": \"1900-01-01T11:36:00\", \"variable\": \"media_reale\", \"value\": 15.959183673469388}, {\"time\": \"1900-01-01T11:48:00\", \"variable\": \"media_reale\", \"value\": 15.959183673469388}, {\"time\": \"1900-01-01T12:00:00\", \"variable\": \"media_reale\", \"value\": 15.959183673469388}, {\"time\": \"1900-01-01T12:12:00\", \"variable\": \"media_reale\", \"value\": 15.959183673469388}, {\"time\": \"1900-01-01T12:24:00\", \"variable\": \"media_reale\", \"value\": 15.959183673469388}, {\"time\": \"1900-01-01T12:36:00\", \"variable\": \"media_reale\", \"value\": 15.959183673469388}, {\"time\": \"1900-01-01T12:48:00\", \"variable\": \"media_reale\", \"value\": 15.959183673469388}, {\"time\": \"1900-01-01T13:00:00\", \"variable\": \"media_reale\", \"value\": 15.959183673469388}, {\"time\": \"1900-01-01T13:12:00\", \"variable\": \"media_reale\", \"value\": 15.959183673469388}, {\"time\": \"1900-01-01T13:24:00\", \"variable\": \"media_reale\", \"value\": 15.959183673469388}, {\"time\": \"1900-01-01T13:36:00\", \"variable\": \"media_reale\", \"value\": 15.959183673469388}, {\"time\": \"1900-01-01T13:48:00\", \"variable\": \"media_reale\", \"value\": 15.959183673469388}, {\"time\": \"1900-01-01T14:00:00\", \"variable\": \"media_reale\", \"value\": 15.959183673469388}, {\"time\": \"1900-01-01T14:12:00\", \"variable\": \"media_reale\", \"value\": 15.959183673469388}, {\"time\": \"1900-01-01T14:24:00\", \"variable\": \"media_reale\", \"value\": 15.959183673469388}, {\"time\": \"1900-01-01T14:36:00\", \"variable\": \"media_reale\", \"value\": 15.959183673469388}, {\"time\": \"1900-01-01T14:48:00\", \"variable\": \"media_reale\", \"value\": 15.959183673469388}, {\"time\": \"1900-01-01T15:00:00\", \"variable\": \"media_reale\", \"value\": 15.959183673469388}, {\"time\": \"1900-01-01T15:12:00\", \"variable\": \"media_reale\", \"value\": 15.959183673469388}, {\"time\": \"1900-01-01T15:24:00\", \"variable\": \"media_reale\", \"value\": 15.959183673469388}, {\"time\": \"1900-01-01T15:36:00\", \"variable\": \"media_reale\", \"value\": 15.959183673469388}, {\"time\": \"1900-01-01T15:48:00\", \"variable\": \"media_reale\", \"value\": 15.959183673469388}, {\"time\": \"1900-01-01T16:00:00\", \"variable\": \"media_reale\", \"value\": 15.959183673469388}, {\"time\": \"1900-01-01T16:12:00\", \"variable\": \"media_reale\", \"value\": 15.959183673469388}, {\"time\": \"1900-01-01T16:24:00\", \"variable\": \"media_reale\", \"value\": 15.959183673469388}, {\"time\": \"1900-01-01T16:36:00\", \"variable\": \"media_reale\", \"value\": 15.959183673469388}, {\"time\": \"1900-01-01T16:48:00\", \"variable\": \"media_reale\", \"value\": 15.959183673469388}, {\"time\": \"1900-01-01T17:00:00\", \"variable\": \"media_reale\", \"value\": 15.959183673469388}, {\"time\": \"1900-01-01T17:12:00\", \"variable\": \"media_reale\", \"value\": 15.959183673469388}, {\"time\": \"1900-01-01T17:24:00\", \"variable\": \"media_reale\", \"value\": 15.959183673469388}, {\"time\": \"1900-01-01T17:36:00\", \"variable\": \"media_reale\", \"value\": 15.959183673469388}, {\"time\": \"1900-01-01T17:48:00\", \"variable\": \"media_reale\", \"value\": 15.959183673469388}, {\"time\": \"1900-01-01T18:00:00\", \"variable\": \"media_reale\", \"value\": 15.959183673469388}, {\"time\": \"1900-01-01T08:24:00\", \"variable\": \"media_algoritmo\", \"value\": 16.122448979591837}, {\"time\": \"1900-01-01T08:36:00\", \"variable\": \"media_algoritmo\", \"value\": 16.122448979591837}, {\"time\": \"1900-01-01T08:48:00\", \"variable\": \"media_algoritmo\", \"value\": 16.122448979591837}, {\"time\": \"1900-01-01T09:00:00\", \"variable\": \"media_algoritmo\", \"value\": 16.122448979591837}, {\"time\": \"1900-01-01T09:12:00\", \"variable\": \"media_algoritmo\", \"value\": 16.122448979591837}, {\"time\": \"1900-01-01T09:24:00\", \"variable\": \"media_algoritmo\", \"value\": 16.122448979591837}, {\"time\": \"1900-01-01T09:36:00\", \"variable\": \"media_algoritmo\", \"value\": 16.122448979591837}, {\"time\": \"1900-01-01T09:48:00\", \"variable\": \"media_algoritmo\", \"value\": 16.122448979591837}, {\"time\": \"1900-01-01T10:00:00\", \"variable\": \"media_algoritmo\", \"value\": 16.122448979591837}, {\"time\": \"1900-01-01T10:12:00\", \"variable\": \"media_algoritmo\", \"value\": 16.122448979591837}, {\"time\": \"1900-01-01T10:24:00\", \"variable\": \"media_algoritmo\", \"value\": 16.122448979591837}, {\"time\": \"1900-01-01T10:36:00\", \"variable\": \"media_algoritmo\", \"value\": 16.122448979591837}, {\"time\": \"1900-01-01T10:48:00\", \"variable\": \"media_algoritmo\", \"value\": 16.122448979591837}, {\"time\": \"1900-01-01T11:00:00\", \"variable\": \"media_algoritmo\", \"value\": 16.122448979591837}, {\"time\": \"1900-01-01T11:12:00\", \"variable\": \"media_algoritmo\", \"value\": 16.122448979591837}, {\"time\": \"1900-01-01T11:24:00\", \"variable\": \"media_algoritmo\", \"value\": 16.122448979591837}, {\"time\": \"1900-01-01T11:36:00\", \"variable\": \"media_algoritmo\", \"value\": 16.122448979591837}, {\"time\": \"1900-01-01T11:48:00\", \"variable\": \"media_algoritmo\", \"value\": 16.122448979591837}, {\"time\": \"1900-01-01T12:00:00\", \"variable\": \"media_algoritmo\", \"value\": 16.122448979591837}, {\"time\": \"1900-01-01T12:12:00\", \"variable\": \"media_algoritmo\", \"value\": 16.122448979591837}, {\"time\": \"1900-01-01T12:24:00\", \"variable\": \"media_algoritmo\", \"value\": 16.122448979591837}, {\"time\": \"1900-01-01T12:36:00\", \"variable\": \"media_algoritmo\", \"value\": 16.122448979591837}, {\"time\": \"1900-01-01T12:48:00\", \"variable\": \"media_algoritmo\", \"value\": 16.122448979591837}, {\"time\": \"1900-01-01T13:00:00\", \"variable\": \"media_algoritmo\", \"value\": 16.122448979591837}, {\"time\": \"1900-01-01T13:12:00\", \"variable\": \"media_algoritmo\", \"value\": 16.122448979591837}, {\"time\": \"1900-01-01T13:24:00\", \"variable\": \"media_algoritmo\", \"value\": 16.122448979591837}, {\"time\": \"1900-01-01T13:36:00\", \"variable\": \"media_algoritmo\", \"value\": 16.122448979591837}, {\"time\": \"1900-01-01T13:48:00\", \"variable\": \"media_algoritmo\", \"value\": 16.122448979591837}, {\"time\": \"1900-01-01T14:00:00\", \"variable\": \"media_algoritmo\", \"value\": 16.122448979591837}, {\"time\": \"1900-01-01T14:12:00\", \"variable\": \"media_algoritmo\", \"value\": 16.122448979591837}, {\"time\": \"1900-01-01T14:24:00\", \"variable\": \"media_algoritmo\", \"value\": 16.122448979591837}, {\"time\": \"1900-01-01T14:36:00\", \"variable\": \"media_algoritmo\", \"value\": 16.122448979591837}, {\"time\": \"1900-01-01T14:48:00\", \"variable\": \"media_algoritmo\", \"value\": 16.122448979591837}, {\"time\": \"1900-01-01T15:00:00\", \"variable\": \"media_algoritmo\", \"value\": 16.122448979591837}, {\"time\": \"1900-01-01T15:12:00\", \"variable\": \"media_algoritmo\", \"value\": 16.122448979591837}, {\"time\": \"1900-01-01T15:24:00\", \"variable\": \"media_algoritmo\", \"value\": 16.122448979591837}, {\"time\": \"1900-01-01T15:36:00\", \"variable\": \"media_algoritmo\", \"value\": 16.122448979591837}, {\"time\": \"1900-01-01T15:48:00\", \"variable\": \"media_algoritmo\", \"value\": 16.122448979591837}, {\"time\": \"1900-01-01T16:00:00\", \"variable\": \"media_algoritmo\", \"value\": 16.122448979591837}, {\"time\": \"1900-01-01T16:12:00\", \"variable\": \"media_algoritmo\", \"value\": 16.122448979591837}, {\"time\": \"1900-01-01T16:24:00\", \"variable\": \"media_algoritmo\", \"value\": 16.122448979591837}, {\"time\": \"1900-01-01T16:36:00\", \"variable\": \"media_algoritmo\", \"value\": 16.122448979591837}, {\"time\": \"1900-01-01T16:48:00\", \"variable\": \"media_algoritmo\", \"value\": 16.122448979591837}, {\"time\": \"1900-01-01T17:00:00\", \"variable\": \"media_algoritmo\", \"value\": 16.122448979591837}, {\"time\": \"1900-01-01T17:12:00\", \"variable\": \"media_algoritmo\", \"value\": 16.122448979591837}, {\"time\": \"1900-01-01T17:24:00\", \"variable\": \"media_algoritmo\", \"value\": 16.122448979591837}, {\"time\": \"1900-01-01T17:36:00\", \"variable\": \"media_algoritmo\", \"value\": 16.122448979591837}, {\"time\": \"1900-01-01T17:48:00\", \"variable\": \"media_algoritmo\", \"value\": 16.122448979591837}, {\"time\": \"1900-01-01T18:00:00\", \"variable\": \"media_algoritmo\", \"value\": 16.122448979591837}]}};\n",
              "      var embedOpt = {\"mode\": \"vega-lite\"};\n",
              "\n",
              "      function showError(el, error){\n",
              "          el.innerHTML = ('<div class=\"error\" style=\"color:red;\">'\n",
              "                          + '<p>JavaScript Error: ' + error.message + '</p>'\n",
              "                          + \"<p>This usually means there's a typo in your chart specification. \"\n",
              "                          + \"See the javascript console for the full traceback.</p>\"\n",
              "                          + '</div>');\n",
              "          throw error;\n",
              "      }\n",
              "      const el = document.getElementById('altair-viz');\n",
              "      vegaEmbed(\"#altair-viz\", spec, embedOpt)\n",
              "        .catch(error => showError(el, error));\n",
              "    })(vegaEmbed);\n",
              "\n",
              "  </script>\n",
              "</body>\n",
              "</html>"
            ]
          },
          "metadata": {
            "tags": []
          },
          "execution_count": 3
        }
      ]
    },
    {
      "cell_type": "markdown",
      "metadata": {
        "id": "NHQxxZcGpUvE",
        "colab_type": "text"
      },
      "source": [
        "Per quanto preciso, il dato dell'osservazione diretta fornisce una stima globalmente inesatta della frequentazione della piazza durante la giornata.\n",
        "La media reale della frequentazione durante la giornata è infatti di 16 persone.\n",
        "\n",
        "L' algoritmo di rilevazione, sebbene nelle singole rilevazioni può presentare un discreto numero  di errori, permette di ricavere delle stime globalmente più esatte.\n",
        "\n",
        "I grafici seguenti confrontano l'errore della stima dervivata dall'osservazione diretta rispetto all'errore dell'algoritmo di rilevazione. Il primo fornisce un dato medio, il secondo confronta l'area compresa tra i valori reali e le stime con le due metodologie:\n",
        "\n"
      ]
    },
    {
      "cell_type": "code",
      "metadata": {
        "id": "26d0W2IkFQoQ",
        "colab_type": "code",
        "cellView": "form",
        "outputId": "a89b2938-ba95-475e-fb99-314e1494e4d0",
        "colab": {
          "base_uri": "https://localhost:8080/",
          "height": 263
        }
      },
      "source": [
        "#@title\n",
        "\n",
        "#dati scarti\n",
        "scarto_medio_alg=observations['persone_realmente_presenti'] - observations['algoritmo_di_rilevazione']\n",
        "scarto_medio_alg= scarto_medio_alg.abs().mean()\n",
        "\n",
        "scarto_medio_sing=observations['persone_realmente_presenti'] - observations['osservazione_singola']\n",
        "scarto_medio_sing= scarto_medio_sing.abs().mean()\n",
        "\n",
        "scarti = pd.DataFrame({\n",
        "    'modalità_osservazione': ['algoritmo_di_rilevazione','osservazione_diretta'],\n",
        "    'errore_medio': [scarto_medio_alg,  scarto_medio_sing]\n",
        "})\n",
        "\n",
        "scarti= scarti.melt('errore_medio')\n",
        "\n",
        "#viz scarti\n",
        "\n",
        "domain=['algoritmo_di_rilevazione','osservazione_diretta']\n",
        "range_=['green','orange']\n",
        "\n",
        "errore_medio = alt.Chart(scarti).mark_bar().encode(\n",
        "    y=alt.Y('value:N', axis=alt.Axis(title='metodologia')),\n",
        "    x='errore_medio',\n",
        "    color=alt.Color('value:N',scale=alt.Scale(domain=domain,range=range_), legend=None) #alt.Legend(title='Records in Selection'))\n",
        ").interactive()\n",
        "\n",
        "\n",
        "errore_medio.properties(width=500,height=200)"
      ],
      "execution_count": 0,
      "outputs": [
        {
          "output_type": "execute_result",
          "data": {
            "text/plain": [
              "alt.Chart(...)"
            ],
            "text/html": [
              "<!DOCTYPE html>\n",
              "<html>\n",
              "<head>\n",
              "  <style>\n",
              "    .vega-actions a {\n",
              "        margin-right: 12px;\n",
              "        color: #757575;\n",
              "        font-weight: normal;\n",
              "        font-size: 13px;\n",
              "    }\n",
              "    .error {\n",
              "        color: red;\n",
              "    }\n",
              "  </style>\n",
              "  <script type=\"text/javascript\" src=\"https://cdn.jsdelivr.net/npm//vega@5\"></script>\n",
              "  <script type=\"text/javascript\" src=\"https://cdn.jsdelivr.net/npm//vega-lite@3.4.0\"></script>\n",
              "  <script type=\"text/javascript\" src=\"https://cdn.jsdelivr.net/npm//vega-embed@4\"></script>\n",
              "</head>\n",
              "<body>\n",
              "  <div id=\"altair-viz\"></div>\n",
              "  <script>\n",
              "    (function(vegaEmbed) {\n",
              "      var spec = {\"config\": {\"view\": {\"width\": 400, \"height\": 300}, \"mark\": {\"tooltip\": null}}, \"data\": {\"name\": \"data-37dc6f49a29445f5e2f2985692a5ac98\"}, \"mark\": \"bar\", \"encoding\": {\"color\": {\"type\": \"nominal\", \"field\": \"value\", \"legend\": null, \"scale\": {\"domain\": [\"algoritmo_di_rilevazione\", \"osservazione_diretta\"], \"range\": [\"green\", \"orange\"]}}, \"x\": {\"type\": \"quantitative\", \"field\": \"errore_medio\"}, \"y\": {\"type\": \"nominal\", \"axis\": {\"title\": \"metodologia\"}, \"field\": \"value\"}}, \"height\": 200, \"selection\": {\"selector004\": {\"type\": \"interval\", \"bind\": \"scales\", \"encodings\": [\"x\", \"y\"]}}, \"width\": 500, \"$schema\": \"https://vega.github.io/schema/vega-lite/v3.4.0.json\", \"datasets\": {\"data-37dc6f49a29445f5e2f2985692a5ac98\": [{\"errore_medio\": 1.5510204081632653, \"variable\": \"modalit\\u00e0_osservazione\", \"value\": \"algoritmo_di_rilevazione\"}, {\"errore_medio\": 12.46938775510204, \"variable\": \"modalit\\u00e0_osservazione\", \"value\": \"osservazione_diretta\"}]}};\n",
              "      var embedOpt = {\"mode\": \"vega-lite\"};\n",
              "\n",
              "      function showError(el, error){\n",
              "          el.innerHTML = ('<div class=\"error\" style=\"color:red;\">'\n",
              "                          + '<p>JavaScript Error: ' + error.message + '</p>'\n",
              "                          + \"<p>This usually means there's a typo in your chart specification. \"\n",
              "                          + \"See the javascript console for the full traceback.</p>\"\n",
              "                          + '</div>');\n",
              "          throw error;\n",
              "      }\n",
              "      const el = document.getElementById('altair-viz');\n",
              "      vegaEmbed(\"#altair-viz\", spec, embedOpt)\n",
              "        .catch(error => showError(el, error));\n",
              "    })(vegaEmbed);\n",
              "\n",
              "  </script>\n",
              "</body>\n",
              "</html>"
            ]
          },
          "metadata": {
            "tags": []
          },
          "execution_count": 7
        }
      ]
    },
    {
      "cell_type": "code",
      "metadata": {
        "id": "5PKGA2A9vjXG",
        "colab_type": "code",
        "cellView": "form",
        "colab": {}
      },
      "source": [
        "#@title\n",
        "#(lines + area_errore_sing).properties(width=900,height=500) | (lines + area_errore_alg).properties(width=900,height=500) "
      ],
      "execution_count": 0,
      "outputs": []
    },
    {
      "cell_type": "markdown",
      "metadata": {
        "id": "KfwItGWpVTRW",
        "colab_type": "text"
      },
      "source": [
        "\n",
        "\n",
        "---\n",
        "## frequentazione piazza\n"
      ]
    },
    {
      "cell_type": "code",
      "metadata": {
        "id": "GNdYCLCYQ6t4",
        "colab_type": "code",
        "cellView": "form",
        "outputId": "2e010f8d-9e79-4c4d-9aa2-df152484c890",
        "colab": {
          "base_uri": "https://localhost:8080/",
          "height": 286
        }
      },
      "source": [
        "#@title\n",
        "\n",
        "cnx = sqlite3.connect('/content/gdrive/My Drive/Colab Notebooks/203_ZG/db.sqlite3')\n",
        "\n",
        "df_gender = pd.read_sql_query(\"SELECT id, gender FROM app_sentiment_gender_detected\", cnx)\n",
        "\n",
        "df_gender_total=pd.DataFrame()\n",
        "df_gender_total['genere']=['donna','uomo']\n",
        "df_gender_total['percentuale']=[\n",
        "                        df_gender.loc[df_gender['gender'] == 'woman', 'gender'].count(),\n",
        "                        df_gender.loc[df_gender['gender'] == 'man', 'gender'].count()\n",
        "                        ]\n",
        "df_gender_total['percentuale']=df_gender_total['percentuale']/df_gender_total['percentuale'].sum()*100\n",
        "\n",
        "\n",
        "#viz\n",
        "grafico_gender= alt.Chart(df_gender_total).mark_bar().encode(\n",
        "    y='percentuale:Q',\n",
        "    x=alt.Y('genere:N',sort=alt.EncodingSortField(field='percentuale', order='descending')),\n",
        "    color=alt.Color('genere', scale=alt.Scale(scheme='set1'))\n",
        ")\n",
        "\n",
        "grafico_gender.properties(width=500,height=200)\n",
        "\n",
        "\n"
      ],
      "execution_count": 0,
      "outputs": [
        {
          "output_type": "execute_result",
          "data": {
            "text/plain": [
              "alt.Chart(...)"
            ],
            "text/html": [
              "<!DOCTYPE html>\n",
              "<html>\n",
              "<head>\n",
              "  <style>\n",
              "    .vega-actions a {\n",
              "        margin-right: 12px;\n",
              "        color: #757575;\n",
              "        font-weight: normal;\n",
              "        font-size: 13px;\n",
              "    }\n",
              "    .error {\n",
              "        color: red;\n",
              "    }\n",
              "  </style>\n",
              "  <script type=\"text/javascript\" src=\"https://cdn.jsdelivr.net/npm//vega@5\"></script>\n",
              "  <script type=\"text/javascript\" src=\"https://cdn.jsdelivr.net/npm//vega-lite@3.4.0\"></script>\n",
              "  <script type=\"text/javascript\" src=\"https://cdn.jsdelivr.net/npm//vega-embed@4\"></script>\n",
              "</head>\n",
              "<body>\n",
              "  <div id=\"altair-viz\"></div>\n",
              "  <script>\n",
              "    (function(vegaEmbed) {\n",
              "      var spec = {\"config\": {\"view\": {\"width\": 400, \"height\": 300}, \"mark\": {\"tooltip\": null}}, \"data\": {\"name\": \"data-529e05f183baecf81065ed71bc7f16be\"}, \"mark\": \"bar\", \"encoding\": {\"color\": {\"type\": \"nominal\", \"field\": \"genere\", \"scale\": {\"scheme\": \"set1\"}}, \"x\": {\"type\": \"nominal\", \"field\": \"genere\", \"sort\": {\"field\": \"percentuale\", \"order\": \"descending\"}}, \"y\": {\"type\": \"quantitative\", \"field\": \"percentuale\"}}, \"height\": 200, \"width\": 500, \"$schema\": \"https://vega.github.io/schema/vega-lite/v3.4.0.json\", \"datasets\": {\"data-529e05f183baecf81065ed71bc7f16be\": [{\"genere\": \"donna\", \"percentuale\": 26.488095238095237}, {\"genere\": \"uomo\", \"percentuale\": 73.51190476190477}]}};\n",
              "      var embedOpt = {\"mode\": \"vega-lite\"};\n",
              "\n",
              "      function showError(el, error){\n",
              "          el.innerHTML = ('<div class=\"error\" style=\"color:red;\">'\n",
              "                          + '<p>JavaScript Error: ' + error.message + '</p>'\n",
              "                          + \"<p>This usually means there's a typo in your chart specification. \"\n",
              "                          + \"See the javascript console for the full traceback.</p>\"\n",
              "                          + '</div>');\n",
              "          throw error;\n",
              "      }\n",
              "      const el = document.getElementById('altair-viz');\n",
              "      vegaEmbed(\"#altair-viz\", spec, embedOpt)\n",
              "        .catch(error => showError(el, error));\n",
              "    })(vegaEmbed);\n",
              "\n",
              "  </script>\n",
              "</body>\n",
              "</html>"
            ]
          },
          "metadata": {
            "tags": []
          },
          "execution_count": 4
        }
      ]
    },
    {
      "cell_type": "code",
      "metadata": {
        "id": "gmG071rEQ-4P",
        "colab_type": "code",
        "outputId": "f23d4994-b0fc-4706-ac24-d2e8cad88367",
        "colab": {
          "base_uri": "https://localhost:8080/",
          "height": 163
        }
      },
      "source": [
        "df_gender.head(10)"
      ],
      "execution_count": 0,
      "outputs": [
        {
          "output_type": "error",
          "ename": "NameError",
          "evalue": "ignored",
          "traceback": [
            "\u001b[0;31m---------------------------------------------------------------------------\u001b[0m",
            "\u001b[0;31mNameError\u001b[0m                                 Traceback (most recent call last)",
            "\u001b[0;32m<ipython-input-1-741a22ece609>\u001b[0m in \u001b[0;36m<module>\u001b[0;34m()\u001b[0m\n\u001b[0;32m----> 1\u001b[0;31m \u001b[0mdf_gender\u001b[0m\u001b[0;34m.\u001b[0m\u001b[0mhead\u001b[0m\u001b[0;34m(\u001b[0m\u001b[0;36m10\u001b[0m\u001b[0;34m)\u001b[0m\u001b[0;34m\u001b[0m\u001b[0;34m\u001b[0m\u001b[0m\n\u001b[0m",
            "\u001b[0;31mNameError\u001b[0m: name 'df_gender' is not defined"
          ]
        }
      ]
    },
    {
      "cell_type": "code",
      "metadata": {
        "id": "6S90fsNeb0i7",
        "colab_type": "code",
        "colab": {}
      },
      "source": [
        ""
      ],
      "execution_count": 0,
      "outputs": []
    }
  ]
}